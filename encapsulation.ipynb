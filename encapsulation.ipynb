{
 "cells": [
  {
   "cell_type": "code",
   "execution_count": 1,
   "id": "30291c30",
   "metadata": {},
   "outputs": [
    {
     "name": "stdout",
     "output_type": "stream",
     "text": [
      "Ferrari\n",
      "180\n",
      "200\n"
     ]
    }
   ],
   "source": [
    "#encapsulation\n",
    "'''basic encapsulation with attributes,private attributes\n",
    "1.__var,__x,__a\n",
    "self.__a(private variable access)'''\n",
    "class car:\n",
    "    def __init__(self,brand,speed):\n",
    "        self.brand=brand\n",
    "        self.__speed=speed\n",
    "    def get_speed(self):\n",
    "        return self.__speed\n",
    "    def set_speed(self,speed):\n",
    "        if speed>=0:\n",
    "            self.__speed=speed\n",
    "        else:\n",
    "            print(\"car is not moving\")        \n",
    "c=car(\"Ferrari\",180)\n",
    "print(c.brand)\n",
    "print(c.get_speed())            \n",
    "c.set_speed(200)\n",
    "print(c.get_speed())\n",
    "c.set_speed(0)\n"
   ]
  },
  {
   "cell_type": "code",
   "execution_count": 5,
   "id": "b35b1865",
   "metadata": {},
   "outputs": [
    {
     "name": "stdout",
     "output_type": "stream",
     "text": [
      "harsh\n",
      "Name:harsh,Age:20\n"
     ]
    }
   ],
   "source": [
    "#protected attributes\n",
    "class student:\n",
    "    def __init__(self,name,age):\n",
    "        self._name=name\n",
    "        self._age=age\n",
    "    def display_info(self):\n",
    "        print(f\"Name:{self._name},Age:{self._age}\")  \n",
    "s=student(\"harsh\",20)\n",
    "print(s._name)\n",
    "s.display_info()          "
   ]
  },
  {
   "cell_type": "code",
   "execution_count": 7,
   "id": "4c8caa58",
   "metadata": {},
   "outputs": [
    {
     "name": "stdout",
     "output_type": "stream",
     "text": [
      "89.25\n",
      " Name:harsh,GPA:89.25\n"
     ]
    }
   ],
   "source": [
    "'''calculate the avearge of 4 subjects of a student by taking protected attributes,pass name and four subjects marks to class student find gpa\n",
    "and assign the avg to gpa\n",
    "name=\"harsh\"\n",
    "marks=[99,79,84,95]\n",
    "output=average of grades=90.0\n",
    "output=name****,gpa=90.00'''\n",
    "class student:\n",
    "     def __init__(self,name,grades):\n",
    "          self._name=name\n",
    "          self._grades=grades\n",
    "     def gpa(self):\n",
    "          if not self._grades:\n",
    "               return 0\n",
    "          return sum(self._grades)/len(self._grades)\n",
    "     def display_info(self):\n",
    "          print(f\" Name:{self._name},GPA:{self.gpa():.2f}\")     \n",
    "s=student(\"harsh\",[99,79,84,95])          \n",
    "print(s.gpa())\n",
    "s.display_info()"
   ]
  },
  {
   "cell_type": "code",
   "execution_count": 8,
   "id": "98713576",
   "metadata": {},
   "outputs": [
    {
     "name": "stdout",
     "output_type": "stream",
     "text": [
      "Quotient 0.7777777777777778\n"
     ]
    }
   ],
   "source": [
    "#handling zero exception\n",
    "num1=int(input(\"enter the numerator:\"))\n",
    "num2=int(input(\"enter the denominator:\"))\n",
    "try:\n",
    "    quo=num1/num2\n",
    "    print(\"Quotient\",quo)\n",
    "except ZeroDivisionError:\n",
    "    print(\"Denominator cant be zero\")    \n",
    "    "
   ]
  },
  {
   "cell_type": "code",
   "execution_count": 10,
   "id": "e18dab42",
   "metadata": {},
   "outputs": [
    {
     "name": "stdout",
     "output_type": "stream",
     "text": [
      "Please enter carefully....\n",
      "exit from exception\n"
     ]
    }
   ],
   "source": [
    "#multiple exception block\n",
    "try:\n",
    "    num=int(input(\"enter a number:\"))\n",
    "    print(num**3)\n",
    "except(KeyboardInterrupt):\n",
    "    print(\"enter only numeric....program end!!!\")\n",
    "except (ValueError):\n",
    "    print(\"Please enter carefully....\")        \n",
    "print(\"exit from exception\")\n",
    "    "
   ]
  },
  {
   "cell_type": "code",
   "execution_count": 12,
   "id": "02eaaed9",
   "metadata": {},
   "outputs": [
    {
     "name": "stdout",
     "output_type": "stream",
     "text": [
      "Accessing from the blocks above\n",
      "end\n"
     ]
    }
   ],
   "source": [
    "try:\n",
    "    num=int(input(\"enter a number:\"))\n",
    "    print(num-55)\n",
    "except(KeyboardInterrupt,ValueError,TypeError):   \n",
    "    print(\"Accessing from the blocks above\")\n",
    "print(\"end\")    "
   ]
  }
 ],
 "metadata": {
  "kernelspec": {
   "display_name": "Python 3",
   "language": "python",
   "name": "python3"
  },
  "language_info": {
   "codemirror_mode": {
    "name": "ipython",
    "version": 3
   },
   "file_extension": ".py",
   "mimetype": "text/x-python",
   "name": "python",
   "nbconvert_exporter": "python",
   "pygments_lexer": "ipython3",
   "version": "3.8.4"
  }
 },
 "nbformat": 4,
 "nbformat_minor": 5
}
